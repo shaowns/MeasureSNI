{
 "cells": [
  {
   "cell_type": "code",
   "execution_count": null,
   "metadata": {
    "collapsed": false
   },
   "outputs": [],
   "source": [
    "from csv import reader\n",
    "from argparse import ArgumentParser\n",
    "from mysql.connector import Error\n",
    "from subprocess import check_output as co\n",
    "from timeit import default_timer as timer\n",
    "import logging\n",
    "import imp\n",
    "import mysql_dac as md"
   ]
  },
  {
   "cell_type": "code",
   "execution_count": null,
   "metadata": {
    "collapsed": true
   },
   "outputs": [],
   "source": [
    "def setup_logging():\n",
    "    \"\"\"\n",
    "    Setup a reusable logger\n",
    "    \"\"\"\n",
    "    logger = logging.getLogger('url_data')\n",
    "    hdlr = logging.FileHandler('./logs/url_data.log', mode='w')\n",
    "    formatter = logging.Formatter('%(asctime)s %(levelname)s %(message)s')\n",
    "    hdlr.setFormatter(formatter)\n",
    "    logger.addHandler(hdlr) \n",
    "    logger.setLevel(logging.INFO)\n",
    "    return logger"
   ]
  },
  {
   "cell_type": "code",
   "execution_count": null,
   "metadata": {
    "collapsed": true
   },
   "outputs": [],
   "source": [
    "def get_cmd_output(command):\n",
    "    \"\"\"\n",
    "    Run the complex (piped command) in shell (requires UNIX shell) and return the output.\n",
    "    \"\"\"\n",
    "    cstr = co(command, shell=True)\n",
    "    return cstr"
   ]
  },
  {
   "cell_type": "code",
   "execution_count": null,
   "metadata": {
    "collapsed": false
   },
   "outputs": [],
   "source": [
    "def process_url(url):\n",
    "    \"\"\"\n",
    "    Process the certificate extraction and checks if any of the SNI criteria is met.\n",
    "    \"\"\"\n",
    "    default_cert_cmd = \"echo | openssl s_client -connect {}:443 2>&1 | sed -n '/BEGIN CERTIFICATE/,/END CERTIFICATE/p'\".format(url)\n",
    "    sni_cert_cmd = \"echo | openssl s_client -connect {}:443 -servername {} 2>&1 | sed -n '/BEGIN CERTIFICATE/,/END CERTIFICATE/p'\".format(url, url)\n",
    "\n",
    "    default_cert_str = get_cmd_output(default_cert_cmd)\n",
    "    sni_cert_str = get_cmd_output(sni_cert_cmd)\n",
    "    \n",
    "    support_sni = False\n",
    "    requires_sni = False\n",
    "    force_sni = False\n",
    "    \n",
    "    if sni_cert_str:\n",
    "        support_sni = True\n",
    "        \n",
    "    if default_cert_str != sni_cert_str:\n",
    "        requires_sni = True\n",
    "        \n",
    "    if not default_cert_str and sni_cert_str:\n",
    "        force_sni = True\n",
    "        \n",
    "    return support_sni, requires_sni, force_sni, default_cert_str, sni_cert_str"
   ]
  },
  {
   "cell_type": "code",
   "execution_count": null,
   "metadata": {
    "collapsed": false
   },
   "outputs": [],
   "source": [
    "def store_url_data(rank, url, logger):\n",
    "    \"\"\"\n",
    "    Stores the url certificate data into MySql table (add the configurations into the .ini file).\n",
    "    \"\"\"\n",
    "    try:\n",
    "        support_sni, requires_sni, force_sni, default_cert, sni_cert = process_url(url)\n",
    "        sp_args = []\n",
    "        sp_args.append(rank)\n",
    "        sp_args.append(url)\n",
    "        sp_args.append(support_sni)\n",
    "        sp_args.append(requires_sni)\n",
    "        sp_args.append(force_sni)\n",
    "        sp_args.append(default_cert)\n",
    "        sp_args.append(sni_cert)\n",
    "        sp_args.append(0)\n",
    "        \n",
    "        insert_id = md.call_procedure('add_url_data', sp_args)\n",
    "        return insert_id\n",
    "\n",
    "    except Error as err:    \n",
    "        logger.error(\"DB insertion error, url: \" + url + \", Exception: \" + str(err))\n",
    "    except Exception as e:\n",
    "        logger.error(\"URL cert data command failed, url: \" + url + \", Exception: \" + str(e))\n",
    "        \n",
    "    return -1"
   ]
  },
  {
   "cell_type": "code",
   "execution_count": null,
   "metadata": {
    "collapsed": true
   },
   "outputs": [],
   "source": [
    "def get_url_iterator(filename, sidx):\n",
    "    \"\"\"\n",
    "    Read the url from the large csv file starting at given index without loading the file into memory.\n",
    "    \"\"\"\n",
    "    with open(filename, \"rb\") as f:\n",
    "        dr = reader(f)\n",
    "        for idx, row in enumerate(dr):\n",
    "            if idx < sidx:\n",
    "                continue\n",
    "            yield row"
   ]
  },
  {
   "cell_type": "code",
   "execution_count": null,
   "metadata": {
    "collapsed": true
   },
   "outputs": [],
   "source": [
    "def do_stuff(filename, sidx=0):\n",
    "    \"\"\"\n",
    "    Start running the url processing starting at given row index.\n",
    "    \"\"\"\n",
    "    count = 0\n",
    "    for row in get_url_iterator(filename, sidx):\n",
    "        rank, url = row\n",
    "        rid = store_url_data(rank, url, logger)\n",
    "        if rid != -1:\n",
    "            count += 1\n",
    "        \n",
    "    return count"
   ]
  },
  {
   "cell_type": "code",
   "execution_count": null,
   "metadata": {
    "collapsed": false
   },
   "outputs": [],
   "source": [
    "def main():\n",
    "    \"\"\"\n",
    "    Main function, entry point of script. Handles command line arguments.\n",
    "    \"\"\"\n",
    "    ap = ArgumentParser(description='Use the script to pull the certificate data of the urls in the csv file.')\n",
    "    ap.add_argument('-f', '-file', help='CSV file containing urls at column 1, rank at column 0', required=True)\n",
    "    ap.add_argument('-i', '-idx', help='Starting index of the csv file', required=Fale, default=0)\n",
    "    \n",
    "    # Reload the dac for changes.\n",
    "    imp.reload(md)\n",
    "\n",
    "    # Set up logger, will clear everything in logging file.\n",
    "    logger = setup_logging()\n",
    "    \n",
    "    # Let it rip.\n",
    "    args = ap.parse_args()\n",
    "    filename = args.f\n",
    "    sidx = int(args.i)\n",
    "    \n",
    "    start = timer()\n",
    "    count = do_stuff(filename, sidx)\n",
    "    end = timer()\n",
    "    elapsed = end - start\n",
    "    \n",
    "    print \"Processed {} URLs in {} seconds\".format(count, elapsed)\n",
    "    return"
   ]
  },
  {
   "cell_type": "code",
   "execution_count": null,
   "metadata": {
    "collapsed": false
   },
   "outputs": [],
   "source": [
    "if __name__ == \"__main__\":\n",
    "    main()"
   ]
  }
 ],
 "metadata": {
  "kernelspec": {
   "display_name": "Python 2",
   "language": "python",
   "name": "python2"
  },
  "language_info": {
   "codemirror_mode": {
    "name": "ipython",
    "version": 2
   },
   "file_extension": ".py",
   "mimetype": "text/x-python",
   "name": "python",
   "nbconvert_exporter": "python",
   "pygments_lexer": "ipython2",
   "version": "2.7.13"
  }
 },
 "nbformat": 4,
 "nbformat_minor": 2
}
